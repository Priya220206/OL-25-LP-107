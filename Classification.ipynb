{
 "cells": [
  {
   "cell_type": "markdown",
   "id": "5fea9f36",
   "metadata": {},
   "source": [
    "#### Importing Necessary Libraries"
   ]
  },
  {
   "cell_type": "code",
   "execution_count": null,
   "id": "51273f4f",
   "metadata": {},
   "outputs": [],
   "source": [
    "import numpy as np\n",
    "import pandas as pd\n",
    "from sklearn.linear_model import LogisticRegression\n",
    "from sklearn.ensemble import RandomForestClassifier\n",
    "from sklearn.model_selection import train_test_split\n",
    "from sklearn.metrics import accuracy_score, roc_auc_score, f1_score, confusion_matrix, classification_report\n",
    "from sklearn.preprocessing import OneHotEncoder, StandardScaler\n",
    "from sklearn.neighbors import KNeighborsClassifier\n",
    "from sklearn.tree import DecisionTreeClassifier\n",
    "from sklearn.compose import ColumnTransformer\n",
    "\n",
    "import warnings\n",
    "warnings.filterwarnings('ignore')"
   ]
  },
  {
   "cell_type": "markdown",
   "id": "6858b922",
   "metadata": {},
   "source": [
    "#### Loading Cleaned Dataset"
   ]
  },
  {
   "cell_type": "code",
   "execution_count": 1482,
   "id": "e9fa0240",
   "metadata": {},
   "outputs": [
    {
     "data": {
      "text/html": [
       "<div>\n",
       "<style scoped>\n",
       "    .dataframe tbody tr th:only-of-type {\n",
       "        vertical-align: middle;\n",
       "    }\n",
       "\n",
       "    .dataframe tbody tr th {\n",
       "        vertical-align: top;\n",
       "    }\n",
       "\n",
       "    .dataframe thead th {\n",
       "        text-align: right;\n",
       "    }\n",
       "</style>\n",
       "<table border=\"1\" class=\"dataframe\">\n",
       "  <thead>\n",
       "    <tr style=\"text-align: right;\">\n",
       "      <th></th>\n",
       "      <th>Age</th>\n",
       "      <th>Gender</th>\n",
       "      <th>Country</th>\n",
       "      <th>family_history</th>\n",
       "      <th>treatment</th>\n",
       "      <th>work_interfere</th>\n",
       "      <th>no_employees</th>\n",
       "      <th>remote_work</th>\n",
       "      <th>tech_company</th>\n",
       "      <th>benefits</th>\n",
       "      <th>care_options</th>\n",
       "      <th>wellness_program</th>\n",
       "      <th>seek_help</th>\n",
       "      <th>anonymity</th>\n",
       "      <th>leave</th>\n",
       "      <th>mental_health_consequence</th>\n",
       "      <th>phys_health_consequence</th>\n",
       "      <th>coworkers</th>\n",
       "      <th>supervisor</th>\n",
       "      <th>mental_health_interview</th>\n",
       "      <th>phys_health_interview</th>\n",
       "      <th>mental_vs_physical</th>\n",
       "      <th>obs_consequence</th>\n",
       "    </tr>\n",
       "  </thead>\n",
       "  <tbody>\n",
       "    <tr>\n",
       "      <th>0</th>\n",
       "      <td>37</td>\n",
       "      <td>female</td>\n",
       "      <td>United States</td>\n",
       "      <td>No</td>\n",
       "      <td>Yes</td>\n",
       "      <td>Often</td>\n",
       "      <td>6-25</td>\n",
       "      <td>No</td>\n",
       "      <td>Yes</td>\n",
       "      <td>Yes</td>\n",
       "      <td>Not sure</td>\n",
       "      <td>No</td>\n",
       "      <td>Yes</td>\n",
       "      <td>Yes</td>\n",
       "      <td>Somewhat easy</td>\n",
       "      <td>No</td>\n",
       "      <td>No</td>\n",
       "      <td>Some of them</td>\n",
       "      <td>Yes</td>\n",
       "      <td>No</td>\n",
       "      <td>Maybe</td>\n",
       "      <td>Yes</td>\n",
       "      <td>No</td>\n",
       "    </tr>\n",
       "    <tr>\n",
       "      <th>1</th>\n",
       "      <td>44</td>\n",
       "      <td>male</td>\n",
       "      <td>United States</td>\n",
       "      <td>No</td>\n",
       "      <td>No</td>\n",
       "      <td>Rarely</td>\n",
       "      <td>More than 1000</td>\n",
       "      <td>No</td>\n",
       "      <td>No</td>\n",
       "      <td>Don't know</td>\n",
       "      <td>No</td>\n",
       "      <td>Don't know</td>\n",
       "      <td>Don't know</td>\n",
       "      <td>Don't know</td>\n",
       "      <td>Don't know</td>\n",
       "      <td>Maybe</td>\n",
       "      <td>No</td>\n",
       "      <td>No</td>\n",
       "      <td>No</td>\n",
       "      <td>No</td>\n",
       "      <td>No</td>\n",
       "      <td>Don't know</td>\n",
       "      <td>No</td>\n",
       "    </tr>\n",
       "    <tr>\n",
       "      <th>2</th>\n",
       "      <td>32</td>\n",
       "      <td>male</td>\n",
       "      <td>Canada</td>\n",
       "      <td>No</td>\n",
       "      <td>No</td>\n",
       "      <td>Rarely</td>\n",
       "      <td>6-25</td>\n",
       "      <td>No</td>\n",
       "      <td>Yes</td>\n",
       "      <td>No</td>\n",
       "      <td>No</td>\n",
       "      <td>No</td>\n",
       "      <td>No</td>\n",
       "      <td>Don't know</td>\n",
       "      <td>Somewhat difficult</td>\n",
       "      <td>No</td>\n",
       "      <td>No</td>\n",
       "      <td>Yes</td>\n",
       "      <td>Yes</td>\n",
       "      <td>Yes</td>\n",
       "      <td>Yes</td>\n",
       "      <td>No</td>\n",
       "      <td>No</td>\n",
       "    </tr>\n",
       "    <tr>\n",
       "      <th>3</th>\n",
       "      <td>31</td>\n",
       "      <td>male</td>\n",
       "      <td>United Kingdom</td>\n",
       "      <td>Yes</td>\n",
       "      <td>Yes</td>\n",
       "      <td>Often</td>\n",
       "      <td>26-100</td>\n",
       "      <td>No</td>\n",
       "      <td>Yes</td>\n",
       "      <td>No</td>\n",
       "      <td>Yes</td>\n",
       "      <td>No</td>\n",
       "      <td>No</td>\n",
       "      <td>No</td>\n",
       "      <td>Somewhat difficult</td>\n",
       "      <td>Yes</td>\n",
       "      <td>Yes</td>\n",
       "      <td>Some of them</td>\n",
       "      <td>No</td>\n",
       "      <td>Maybe</td>\n",
       "      <td>Maybe</td>\n",
       "      <td>No</td>\n",
       "      <td>Yes</td>\n",
       "    </tr>\n",
       "    <tr>\n",
       "      <th>4</th>\n",
       "      <td>31</td>\n",
       "      <td>male</td>\n",
       "      <td>United States</td>\n",
       "      <td>No</td>\n",
       "      <td>No</td>\n",
       "      <td>Never</td>\n",
       "      <td>100-500</td>\n",
       "      <td>Yes</td>\n",
       "      <td>Yes</td>\n",
       "      <td>Yes</td>\n",
       "      <td>No</td>\n",
       "      <td>Don't know</td>\n",
       "      <td>Don't know</td>\n",
       "      <td>Don't know</td>\n",
       "      <td>Don't know</td>\n",
       "      <td>No</td>\n",
       "      <td>No</td>\n",
       "      <td>Some of them</td>\n",
       "      <td>Yes</td>\n",
       "      <td>Yes</td>\n",
       "      <td>Yes</td>\n",
       "      <td>Don't know</td>\n",
       "      <td>No</td>\n",
       "    </tr>\n",
       "  </tbody>\n",
       "</table>\n",
       "</div>"
      ],
      "text/plain": [
       "   Age  Gender  ... mental_vs_physical obs_consequence\n",
       "0   37  female  ...                Yes              No\n",
       "1   44    male  ...         Don't know              No\n",
       "2   32    male  ...                 No              No\n",
       "3   31    male  ...                 No             Yes\n",
       "4   31    male  ...         Don't know              No\n",
       "\n",
       "[5 rows x 23 columns]"
      ]
     },
     "execution_count": 1482,
     "metadata": {},
     "output_type": "execute_result"
    }
   ],
   "source": [
    "#Loading cleaned dataset\n",
    "df=pd.read_csv(\"clean_data.csv\")\n",
    "df.head(5)"
   ]
  },
  {
   "cell_type": "markdown",
   "id": "fae6cd91",
   "metadata": {},
   "source": [
    "#### Finding Unique Values"
   ]
  },
  {
   "cell_type": "code",
   "execution_count": 1483,
   "id": "ce748e6c",
   "metadata": {},
   "outputs": [
    {
     "data": {
      "text/plain": [
       "array(['No', 'Yes'], dtype=object)"
      ]
     },
     "execution_count": 1483,
     "metadata": {},
     "output_type": "execute_result"
    }
   ],
   "source": [
    "df[\"family_history\"].unique()"
   ]
  },
  {
   "cell_type": "code",
   "execution_count": 1484,
   "id": "38adcab9",
   "metadata": {},
   "outputs": [
    {
     "data": {
      "text/plain": [
       "array(['Yes', \"Don't know\", 'No'], dtype=object)"
      ]
     },
     "execution_count": 1484,
     "metadata": {},
     "output_type": "execute_result"
    }
   ],
   "source": [
    "df[\"seek_help\"].unique()"
   ]
  },
  {
   "cell_type": "code",
   "execution_count": 1485,
   "id": "0e7b3279",
   "metadata": {},
   "outputs": [
    {
     "data": {
      "text/plain": [
       "array(['Not sure', 'No', 'Yes'], dtype=object)"
      ]
     },
     "execution_count": 1485,
     "metadata": {},
     "output_type": "execute_result"
    }
   ],
   "source": [
    "df[\"care_options\"].unique()"
   ]
  },
  {
   "cell_type": "code",
   "execution_count": 1486,
   "id": "97088c11",
   "metadata": {},
   "outputs": [
    {
     "data": {
      "text/plain": [
       "array(['Often', 'Rarely', 'Never', 'Sometimes', 'Unknown'], dtype=object)"
      ]
     },
     "execution_count": 1486,
     "metadata": {},
     "output_type": "execute_result"
    }
   ],
   "source": [
    "df[\"work_interfere\"].unique()"
   ]
  },
  {
   "cell_type": "code",
   "execution_count": 1487,
   "id": "dbb7919e",
   "metadata": {},
   "outputs": [
    {
     "data": {
      "text/plain": [
       "array(['No', 'Yes'], dtype=object)"
      ]
     },
     "execution_count": 1487,
     "metadata": {},
     "output_type": "execute_result"
    }
   ],
   "source": [
    "df[\"remote_work\"].unique()"
   ]
  },
  {
   "cell_type": "code",
   "execution_count": 1488,
   "id": "a3a8f411",
   "metadata": {},
   "outputs": [
    {
     "data": {
      "text/plain": [
       "array(['Somewhat easy', \"Don't know\", 'Somewhat difficult',\n",
       "       'Very difficult', 'Very easy'], dtype=object)"
      ]
     },
     "execution_count": 1488,
     "metadata": {},
     "output_type": "execute_result"
    }
   ],
   "source": [
    "df['leave'].unique()"
   ]
  },
  {
   "cell_type": "markdown",
   "id": "21c6da52",
   "metadata": {},
   "source": [
    "#### Encoding Categorial Features"
   ]
  },
  {
   "cell_type": "code",
   "execution_count": 1489,
   "id": "a8fc7760",
   "metadata": {},
   "outputs": [],
   "source": [
    "features= ['family_history','work_interfere','mental_vs_physical','obs_consequence','benefits','care_options',\n",
    "           'wellness_program','seek_help','leave','coworkers','supervisor','mental_health_consequence',\n",
    "           'phys_health_consequence','no_employees','remote_work','tech_company']\n",
    "target=['treatment']\n",
    "\n",
    "data= df[features + target].dropna().copy()\n",
    "\n",
    "X=data[features]\n",
    "y=data[target]\n",
    "\n",
    "ohe = OneHotEncoder(sparse_output=False, handle_unknown='ignore')\n",
    "preprocessor = ColumnTransformer([('category', ohe, features)])\n",
    "X_encoded = preprocessor.fit_transform(X)\n"
   ]
  },
  {
   "cell_type": "markdown",
   "id": "ec8e9222",
   "metadata": {},
   "source": [
    "#### Preprocessing"
   ]
  },
  {
   "cell_type": "code",
   "execution_count": null,
   "id": "1e4ba51e",
   "metadata": {},
   "outputs": [],
   "source": [
    "#standardization\n",
    "scaler=StandardScaler()\n",
    "X_scaled=scaler.fit_transform(X_encoded)\n",
    "\n",
    "#splitting \n",
    "X_train, X_test, y_train ,y_test = train_test_split( X_scaled, y, test_size=0.3, random_state=42)\n",
    "X_train=scaler.fit_transform(X_train)\n",
    "X_test=scaler.transform(X_test)"
   ]
  },
  {
   "cell_type": "markdown",
   "id": "bd080751",
   "metadata": {},
   "source": [
    "#### Logistic Regression"
   ]
  },
  {
   "cell_type": "code",
   "execution_count": 1491,
   "id": "75717cc7",
   "metadata": {},
   "outputs": [
    {
     "name": "stdout",
     "output_type": "stream",
     "text": [
      "Logistic Regression\n",
      "Accuracy : 0.8293333333333334\n",
      "ROC AUC  : 0.9015983301881397\n",
      "F1 Score : 0.828990530846485\n",
      "Confusion Matrix :\n",
      " [[138  36]\n",
      " [ 28 173]]\n",
      "Classification Report :\n",
      "               precision    recall  f1-score   support\n",
      "\n",
      "          No       0.83      0.79      0.81       174\n",
      "         Yes       0.83      0.86      0.84       201\n",
      "\n",
      "    accuracy                           0.83       375\n",
      "   macro avg       0.83      0.83      0.83       375\n",
      "weighted avg       0.83      0.83      0.83       375\n",
      "\n"
     ]
    }
   ],
   "source": [
    "LR=LogisticRegression(multi_class='multinomial',solver='lbfgs',random_state=42,max_iter=1000)\n",
    "LR.fit(X_train,y_train)\n",
    "y_pred=LR.predict(X_test)\n",
    "y_proba = LR.predict_proba(X_test)[:,1]\n",
    "\n",
    "accuracy= accuracy_score(y_test,y_pred)\n",
    "confusion=confusion_matrix(y_test,y_pred)\n",
    "f1=f1_score(y_test,y_pred, average='weighted')\n",
    "classification=classification_report(y_test,y_pred)\n",
    "roc = roc_auc_score(y_test, y_proba)\n",
    "\n",
    "print(\"Logistic Regression\")\n",
    "print(\"Accuracy :\",accuracy)    \n",
    "print(\"ROC AUC  :\",roc)\n",
    "print(\"F1 Score :\",f1)\n",
    "print(\"Confusion Matrix :\\n\",confusion)\n",
    "print(\"Classification Report :\\n\",classification)"
   ]
  },
  {
   "cell_type": "markdown",
   "id": "806afa88",
   "metadata": {},
   "source": [
    "#### Random Forest Classifier"
   ]
  },
  {
   "cell_type": "code",
   "execution_count": 1492,
   "id": "31009494",
   "metadata": {},
   "outputs": [
    {
     "name": "stdout",
     "output_type": "stream",
     "text": [
      "Random Forest Classifier\n",
      "Accuracy : 0.8026666666666666\n",
      "ROC AUC  : 0.8890461485675073\n",
      "F1 Score : 0.8026666666666666\n",
      "Confusion Matrix :\n",
      " [[137  37]\n",
      " [ 37 164]]\n",
      "Classification Report :\n",
      "               precision    recall  f1-score   support\n",
      "\n",
      "          No       0.79      0.79      0.79       174\n",
      "         Yes       0.82      0.82      0.82       201\n",
      "\n",
      "    accuracy                           0.80       375\n",
      "   macro avg       0.80      0.80      0.80       375\n",
      "weighted avg       0.80      0.80      0.80       375\n",
      "\n"
     ]
    }
   ],
   "source": [
    "rf=RandomForestClassifier(n_estimators=200, random_state=42)\n",
    "rf.fit(X_train,y_train)\n",
    "y_pred=rf.predict(X_test)\n",
    "y_proba = rf.predict_proba(X_test)[:,1]\n",
    "\n",
    "accuracy= accuracy_score(y_test,y_pred)\n",
    "confusion=confusion_matrix(y_test,y_pred)\n",
    "f1=f1_score(y_test,y_pred, average='weighted')\n",
    "classification=classification_report(y_test,y_pred)\n",
    "roc = roc_auc_score(y_test, y_proba)\n",
    "\n",
    "print(\"Random Forest Classifier\")\n",
    "print(\"Accuracy :\",accuracy)    \n",
    "print(\"ROC AUC  :\",roc)\n",
    "print(\"F1 Score :\",f1)\n",
    "print(\"Confusion Matrix :\\n\",confusion)\n",
    "print(\"Classification Report :\\n\",classification)"
   ]
  },
  {
   "cell_type": "markdown",
   "id": "cb822e7c",
   "metadata": {},
   "source": [
    "## K Neighbors Classifier"
   ]
  },
  {
   "cell_type": "code",
   "execution_count": 1493,
   "id": "4229d87b",
   "metadata": {},
   "outputs": [
    {
     "name": "stdout",
     "output_type": "stream",
     "text": [
      "K neighbors Classifier\n",
      "Accuracy : 0.7386666666666667\n",
      "ROC AUC  : 0.803253845713959\n",
      "F1 Score : 0.7389269292055544\n",
      "Confusion Matrix :\n",
      " [[135  39]\n",
      " [ 59 142]]\n",
      "Classification Report :\n",
      "               precision    recall  f1-score   support\n",
      "\n",
      "          No       0.70      0.78      0.73       174\n",
      "         Yes       0.78      0.71      0.74       201\n",
      "\n",
      "    accuracy                           0.74       375\n",
      "   macro avg       0.74      0.74      0.74       375\n",
      "weighted avg       0.74      0.74      0.74       375\n",
      "\n"
     ]
    }
   ],
   "source": [
    "knn=KNeighborsClassifier(n_neighbors=3)\n",
    "knn.fit(X_train,y_train)\n",
    "y_pred=knn.predict(X_test)\n",
    "y_proba = knn.predict_proba(X_test)[:,1]\n",
    "\n",
    "accuracy= accuracy_score(y_test,y_pred)\n",
    "confusion=confusion_matrix(y_test,y_pred)\n",
    "f1=f1_score(y_test,y_pred, average='weighted')\n",
    "classification=classification_report(y_test,y_pred)\n",
    "roc = roc_auc_score(y_test, y_proba)\n",
    "\n",
    "print(\"K neighbors Classifier\")\n",
    "print(\"Accuracy :\",accuracy)    \n",
    "print(\"ROC AUC  :\",roc)\n",
    "print(\"F1 Score :\",f1)\n",
    "print(\"Confusion Matrix :\\n\",confusion)\n",
    "print(\"Classification Report :\\n\",classification)"
   ]
  },
  {
   "cell_type": "markdown",
   "id": "117246c9",
   "metadata": {},
   "source": [
    "## Decision Tree classifier"
   ]
  },
  {
   "cell_type": "code",
   "execution_count": 1494,
   "id": "1390e9cc",
   "metadata": {},
   "outputs": [
    {
     "name": "stdout",
     "output_type": "stream",
     "text": [
      "Decision Forest Classifier\n",
      "Accuracy : 0.8453333333333334\n",
      "ROC AUC  : 0.8666723852004347\n",
      "F1 Score : 0.8425325513196481\n",
      "Confusion Matrix :\n",
      " [[126  48]\n",
      " [ 10 191]]\n",
      "Classification Report :\n",
      "               precision    recall  f1-score   support\n",
      "\n",
      "          No       0.93      0.72      0.81       174\n",
      "         Yes       0.80      0.95      0.87       201\n",
      "\n",
      "    accuracy                           0.85       375\n",
      "   macro avg       0.86      0.84      0.84       375\n",
      "weighted avg       0.86      0.85      0.84       375\n",
      "\n"
     ]
    }
   ],
   "source": [
    "dfc=DecisionTreeClassifier(random_state=42, max_depth=3)\n",
    "dfc.fit(X_train,y_train)\n",
    "y_pred=dfc.predict(X_test)\n",
    "y_proba = dfc.predict_proba(X_test)[:,1]\n",
    "\n",
    "accuracy= accuracy_score(y_test,y_pred)\n",
    "confusion=confusion_matrix(y_test,y_pred)\n",
    "f1=f1_score(y_test,y_pred, average='weighted')\n",
    "classification=classification_report(y_test,y_pred)\n",
    "roc = roc_auc_score(y_test, y_proba)\n",
    "\n",
    "print(\"Decision Forest Classifier\")\n",
    "print(\"Accuracy :\",accuracy)    \n",
    "print(\"ROC AUC  :\",roc)\n",
    "print(\"F1 Score :\",f1)\n",
    "print(\"Confusion Matrix :\\n\",confusion)\n",
    "print(\"Classification Report :\\n\",classification)"
   ]
  }
 ],
 "metadata": {
  "kernelspec": {
   "display_name": "cpenv",
   "language": "python",
   "name": "python3"
  },
  "language_info": {
   "codemirror_mode": {
    "name": "ipython",
    "version": 3
   },
   "file_extension": ".py",
   "mimetype": "text/x-python",
   "name": "python",
   "nbconvert_exporter": "python",
   "pygments_lexer": "ipython3",
   "version": "3.12.11"
  }
 },
 "nbformat": 4,
 "nbformat_minor": 5
}
