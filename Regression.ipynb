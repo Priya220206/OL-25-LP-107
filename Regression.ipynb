{
 "cells": [
  {
   "cell_type": "markdown",
   "id": "bed15d62",
   "metadata": {},
   "source": [
    "#### Importing Necessary Libraries"
   ]
  },
  {
   "cell_type": "code",
   "execution_count": null,
   "id": "657000d7",
   "metadata": {},
   "outputs": [],
   "source": [
    "import pandas as pd\n",
    "import numpy as np\n",
    "\n",
    "from sklearn.model_selection import train_test_split\n",
    "from sklearn.linear_model import LinearRegression\n",
    "from sklearn.ensemble import RandomForestRegressor\n",
    "from sklearn.preprocessing import OneHotEncoder, StandardScaler\n",
    "from sklearn.metrics import mean_squared_error, mean_absolute_error, r2_score\n",
    "from sklearn.compose import ColumnTransformer\n",
    "\n",
    "import warnings\n",
    "warnings.filterwarnings('ignore')"
   ]
  },
  {
   "cell_type": "markdown",
   "id": "ce122d2b",
   "metadata": {},
   "source": [
    "#### Loading Cleaned Dataset"
   ]
  },
  {
   "cell_type": "code",
   "execution_count": 1052,
   "id": "80260c0f",
   "metadata": {},
   "outputs": [
    {
     "data": {
      "text/html": [
       "<div>\n",
       "<style scoped>\n",
       "    .dataframe tbody tr th:only-of-type {\n",
       "        vertical-align: middle;\n",
       "    }\n",
       "\n",
       "    .dataframe tbody tr th {\n",
       "        vertical-align: top;\n",
       "    }\n",
       "\n",
       "    .dataframe thead th {\n",
       "        text-align: right;\n",
       "    }\n",
       "</style>\n",
       "<table border=\"1\" class=\"dataframe\">\n",
       "  <thead>\n",
       "    <tr style=\"text-align: right;\">\n",
       "      <th></th>\n",
       "      <th>Age</th>\n",
       "      <th>Gender</th>\n",
       "      <th>Country</th>\n",
       "      <th>family_history</th>\n",
       "      <th>treatment</th>\n",
       "      <th>work_interfere</th>\n",
       "      <th>no_employees</th>\n",
       "      <th>remote_work</th>\n",
       "      <th>tech_company</th>\n",
       "      <th>benefits</th>\n",
       "      <th>...</th>\n",
       "      <th>anonymity</th>\n",
       "      <th>leave</th>\n",
       "      <th>mental_health_consequence</th>\n",
       "      <th>phys_health_consequence</th>\n",
       "      <th>coworkers</th>\n",
       "      <th>supervisor</th>\n",
       "      <th>mental_health_interview</th>\n",
       "      <th>phys_health_interview</th>\n",
       "      <th>mental_vs_physical</th>\n",
       "      <th>obs_consequence</th>\n",
       "    </tr>\n",
       "  </thead>\n",
       "  <tbody>\n",
       "    <tr>\n",
       "      <th>0</th>\n",
       "      <td>37</td>\n",
       "      <td>female</td>\n",
       "      <td>United States</td>\n",
       "      <td>No</td>\n",
       "      <td>Yes</td>\n",
       "      <td>Often</td>\n",
       "      <td>6-25</td>\n",
       "      <td>No</td>\n",
       "      <td>Yes</td>\n",
       "      <td>Yes</td>\n",
       "      <td>...</td>\n",
       "      <td>Yes</td>\n",
       "      <td>Somewhat easy</td>\n",
       "      <td>No</td>\n",
       "      <td>No</td>\n",
       "      <td>Some of them</td>\n",
       "      <td>Yes</td>\n",
       "      <td>No</td>\n",
       "      <td>Maybe</td>\n",
       "      <td>Yes</td>\n",
       "      <td>No</td>\n",
       "    </tr>\n",
       "    <tr>\n",
       "      <th>1</th>\n",
       "      <td>44</td>\n",
       "      <td>male</td>\n",
       "      <td>United States</td>\n",
       "      <td>No</td>\n",
       "      <td>No</td>\n",
       "      <td>Rarely</td>\n",
       "      <td>More than 1000</td>\n",
       "      <td>No</td>\n",
       "      <td>No</td>\n",
       "      <td>Don't know</td>\n",
       "      <td>...</td>\n",
       "      <td>Don't know</td>\n",
       "      <td>Don't know</td>\n",
       "      <td>Maybe</td>\n",
       "      <td>No</td>\n",
       "      <td>No</td>\n",
       "      <td>No</td>\n",
       "      <td>No</td>\n",
       "      <td>No</td>\n",
       "      <td>Don't know</td>\n",
       "      <td>No</td>\n",
       "    </tr>\n",
       "    <tr>\n",
       "      <th>2</th>\n",
       "      <td>32</td>\n",
       "      <td>male</td>\n",
       "      <td>Canada</td>\n",
       "      <td>No</td>\n",
       "      <td>No</td>\n",
       "      <td>Rarely</td>\n",
       "      <td>6-25</td>\n",
       "      <td>No</td>\n",
       "      <td>Yes</td>\n",
       "      <td>No</td>\n",
       "      <td>...</td>\n",
       "      <td>Don't know</td>\n",
       "      <td>Somewhat difficult</td>\n",
       "      <td>No</td>\n",
       "      <td>No</td>\n",
       "      <td>Yes</td>\n",
       "      <td>Yes</td>\n",
       "      <td>Yes</td>\n",
       "      <td>Yes</td>\n",
       "      <td>No</td>\n",
       "      <td>No</td>\n",
       "    </tr>\n",
       "    <tr>\n",
       "      <th>3</th>\n",
       "      <td>31</td>\n",
       "      <td>male</td>\n",
       "      <td>United Kingdom</td>\n",
       "      <td>Yes</td>\n",
       "      <td>Yes</td>\n",
       "      <td>Often</td>\n",
       "      <td>26-100</td>\n",
       "      <td>No</td>\n",
       "      <td>Yes</td>\n",
       "      <td>No</td>\n",
       "      <td>...</td>\n",
       "      <td>No</td>\n",
       "      <td>Somewhat difficult</td>\n",
       "      <td>Yes</td>\n",
       "      <td>Yes</td>\n",
       "      <td>Some of them</td>\n",
       "      <td>No</td>\n",
       "      <td>Maybe</td>\n",
       "      <td>Maybe</td>\n",
       "      <td>No</td>\n",
       "      <td>Yes</td>\n",
       "    </tr>\n",
       "    <tr>\n",
       "      <th>4</th>\n",
       "      <td>31</td>\n",
       "      <td>male</td>\n",
       "      <td>United States</td>\n",
       "      <td>No</td>\n",
       "      <td>No</td>\n",
       "      <td>Never</td>\n",
       "      <td>100-500</td>\n",
       "      <td>Yes</td>\n",
       "      <td>Yes</td>\n",
       "      <td>Yes</td>\n",
       "      <td>...</td>\n",
       "      <td>Don't know</td>\n",
       "      <td>Don't know</td>\n",
       "      <td>No</td>\n",
       "      <td>No</td>\n",
       "      <td>Some of them</td>\n",
       "      <td>Yes</td>\n",
       "      <td>Yes</td>\n",
       "      <td>Yes</td>\n",
       "      <td>Don't know</td>\n",
       "      <td>No</td>\n",
       "    </tr>\n",
       "  </tbody>\n",
       "</table>\n",
       "<p>5 rows × 23 columns</p>\n",
       "</div>"
      ],
      "text/plain": [
       "   Age  Gender         Country family_history treatment work_interfere  \\\n",
       "0   37  female   United States             No       Yes          Often   \n",
       "1   44    male   United States             No        No         Rarely   \n",
       "2   32    male          Canada             No        No         Rarely   \n",
       "3   31    male  United Kingdom            Yes       Yes          Often   \n",
       "4   31    male   United States             No        No          Never   \n",
       "\n",
       "     no_employees remote_work tech_company    benefits  ...   anonymity  \\\n",
       "0            6-25          No          Yes         Yes  ...         Yes   \n",
       "1  More than 1000          No           No  Don't know  ...  Don't know   \n",
       "2            6-25          No          Yes          No  ...  Don't know   \n",
       "3          26-100          No          Yes          No  ...          No   \n",
       "4         100-500         Yes          Yes         Yes  ...  Don't know   \n",
       "\n",
       "                leave mental_health_consequence phys_health_consequence  \\\n",
       "0       Somewhat easy                        No                      No   \n",
       "1          Don't know                     Maybe                      No   \n",
       "2  Somewhat difficult                        No                      No   \n",
       "3  Somewhat difficult                       Yes                     Yes   \n",
       "4          Don't know                        No                      No   \n",
       "\n",
       "      coworkers supervisor mental_health_interview phys_health_interview  \\\n",
       "0  Some of them        Yes                      No                 Maybe   \n",
       "1            No         No                      No                    No   \n",
       "2           Yes        Yes                     Yes                   Yes   \n",
       "3  Some of them         No                   Maybe                 Maybe   \n",
       "4  Some of them        Yes                     Yes                   Yes   \n",
       "\n",
       "  mental_vs_physical obs_consequence  \n",
       "0                Yes              No  \n",
       "1         Don't know              No  \n",
       "2                 No              No  \n",
       "3                 No             Yes  \n",
       "4         Don't know              No  \n",
       "\n",
       "[5 rows x 23 columns]"
      ]
     },
     "execution_count": 1052,
     "metadata": {},
     "output_type": "execute_result"
    }
   ],
   "source": [
    "#Loading cleaned dataset\n",
    "df=pd.read_csv(\"clean_data.csv\")\n",
    "df.head(5)"
   ]
  },
  {
   "cell_type": "markdown",
   "id": "d3ba00b1",
   "metadata": {},
   "source": [
    "#### Encoding Categorial Features"
   ]
  },
  {
   "cell_type": "code",
   "execution_count": 1053,
   "id": "c43148de",
   "metadata": {},
   "outputs": [],
   "source": [
    "features=['Gender','remote_work','tech_company','wellness_program','treatment']\n",
    "target=['Age']\n",
    "\n",
    "data= df[features + target].dropna().copy()\n",
    "\n",
    "X=data[features]\n",
    "y=data[target].values\n",
    "\n",
    "ohe = OneHotEncoder(sparse_output=False, handle_unknown='ignore')\n",
    "preprocessor = ColumnTransformer([('category', ohe, features)])\n",
    "X_encoded = preprocessor.fit_transform(X)"
   ]
  },
  {
   "cell_type": "markdown",
   "id": "5920ac64",
   "metadata": {},
   "source": [
    "#### Preprocessing"
   ]
  },
  {
   "cell_type": "code",
   "execution_count": 1054,
   "id": "5fd3cdef",
   "metadata": {},
   "outputs": [],
   "source": [
    "#standardization\n",
    "scaler=StandardScaler()\n",
    "X_scaled=scaler.fit_transform(X_encoded)\n",
    "\n",
    "#splitting \n",
    "X_train, X_test, y_train ,y_test = train_test_split( X_scaled, y, test_size=0.2, random_state=42)\n",
    "\n",
    "scaler=StandardScaler()\n",
    "X_train=scaler.fit_transform(X_train)\n",
    "X_test=scaler.transform(X_test)"
   ]
  },
  {
   "cell_type": "markdown",
   "id": "96336124",
   "metadata": {},
   "source": [
    "#### Linear Regression"
   ]
  },
  {
   "cell_type": "code",
   "execution_count": 1055,
   "id": "501ee64f",
   "metadata": {},
   "outputs": [
    {
     "name": "stdout",
     "output_type": "stream",
     "text": [
      "Linear Regression\n",
      "RMSE: 7.152\n",
      "MAE : 5.484\n",
      "R²  : 0.022\n"
     ]
    }
   ],
   "source": [
    "lr=LinearRegression()\n",
    "lr.fit(X_train,y_train)\n",
    "y_pred=lr.predict(X_test)\n",
    "rmse = np.sqrt(mean_squared_error(y_test, y_pred))\n",
    "mae = mean_absolute_error(y_test, y_pred)\n",
    "r2 = r2_score(y_test, y_pred)\n",
    "\n",
    "print(\"Linear Regression\")\n",
    "print(\"RMSE:\", round(rmse,3))\n",
    "print(\"MAE :\", round(mae,3))\n",
    "print(\"R²  :\", round(r2,3))"
   ]
  },
  {
   "cell_type": "markdown",
   "id": "3a2ea326",
   "metadata": {},
   "source": [
    "#### Random Forest Regressor"
   ]
  },
  {
   "cell_type": "code",
   "execution_count": 1056,
   "id": "a92835d8",
   "metadata": {},
   "outputs": [
    {
     "name": "stdout",
     "output_type": "stream",
     "text": [
      "Random Forest Regressor\n",
      "RMSE: 7.214\n",
      "MAE : 5.579\n",
      "R²  : 0.005\n"
     ]
    }
   ],
   "source": [
    "rfr=RandomForestRegressor(n_estimators=100,random_state=42)\n",
    "rfr.fit(X_train,y_train)\n",
    "y_pred=rfr.predict(X_test)\n",
    "rmse = np.sqrt(mean_squared_error(y_test, y_pred))\n",
    "mae = mean_absolute_error(y_test, y_pred)\n",
    "r2 = r2_score(y_test, y_pred)\n",
    "\n",
    "print(\"Random Forest Regressor\")\n",
    "print(\"RMSE:\",round (rmse,3))\n",
    "print(\"MAE :\", round(mae,3))\n",
    "print(\"R²  :\", round(r2,3))"
   ]
  },
  {
   "cell_type": "markdown",
   "id": "a4b734a3",
   "metadata": {},
   "source": [
    "### Interpretation\n",
    "##### RMSE (Root Mean Squared Error):\n",
    "  Measures average prediction error in years, so Linear Regression errs by 7.139 years, while Random Forest does better at 7.22 years \n",
    "##### MAE (Mean Absolute Error):\n",
    "  Linear model off by 5.504 years on average; Random Forest improves to 5.572 years.\n",
    "##### R² Score: \n",
    "  This is giving poor value which indicates that the features we are considering are not related to the age hence, they're lacking in predicting age."
   ]
  },
  {
   "cell_type": "markdown",
   "id": "648c9753",
   "metadata": {},
   "source": [
    "#### Let's check R² score for each feature."
   ]
  },
  {
   "cell_type": "code",
   "execution_count": 1057,
   "id": "889ca7cb",
   "metadata": {},
   "outputs": [],
   "source": [
    "feat_check = ['Gender','remote_work', 'tech_company', 'no_employees','work_interfere','family_history',\n",
    "              'treatment','benefits','care_options','seek_help','wellness_program','anonymity',\n",
    "              'leave','mental_health_consequence','phys_health_consequence','coworkers','supervisor',\n",
    "              'mental_health_interview','phys_health_interview','mental_vs_physical','obs_consequence']\n",
    "\n",
    "X_check=df[feat_check]\n",
    "\n",
    "ohe = OneHotEncoder(sparse_output=False, handle_unknown='ignore')\n",
    "preprocessor = ColumnTransformer([('category', ohe, feat_check)])\n",
    "X_check_encoded = preprocessor.fit_transform(X_check)\n",
    "\n",
    "X_check_scaled=scaler.fit_transform(X_check_encoded)"
   ]
  },
  {
   "cell_type": "code",
   "execution_count": 1058,
   "id": "90c1ed4d",
   "metadata": {},
   "outputs": [
    {
     "name": "stdout",
     "output_type": "stream",
     "text": [
      "Gender -0.04048769742582572\n",
      "remote_work -0.04005107715624619\n",
      "tech_company -0.03755480986503157\n",
      "no_employees -0.02186254534908383\n",
      "work_interfere -0.02186254534908383\n",
      "family_history -0.034884771552950486\n",
      "treatment -0.034884771552950444\n",
      "benefits -0.039708299252199805\n",
      "care_options -0.03931969595819407\n",
      "seek_help -0.03219401031133138\n",
      "wellness_program -0.036350857984311744\n",
      "anonymity -0.026201497383810102\n",
      "leave -0.020375022365065255\n",
      "mental_health_consequence -0.04122272921330761\n",
      "phys_health_consequence -0.03776912129957459\n",
      "coworkers -0.037860899983575405\n",
      "supervisor -0.03877394985087255\n",
      "mental_health_interview -0.0328833970409105\n",
      "phys_health_interview -0.039335328037824316\n",
      "mental_vs_physical -0.039335328037824316\n",
      "obs_consequence -0.032656403949145575\n"
     ]
    }
   ],
   "source": [
    "from sklearn.model_selection import cross_val_score\n",
    "\n",
    "for feat in feat_check:\n",
    "    Xf = X_check_scaled[:, [feat_check.index(feat)]]\n",
    "    cv = cross_val_score(LinearRegression(), Xf, y, cv=5, scoring='r2')\n",
    "    print(feat, cv.mean())"
   ]
  },
  {
   "cell_type": "markdown",
   "id": "5d39e6a2",
   "metadata": {},
   "source": [
    "This indicates that none of the features are good for predicting the age of the person."
   ]
  },
  {
   "cell_type": "markdown",
   "id": "4f9e5e6e",
   "metadata": {},
   "source": [
    "#### Let's try some other models\n",
    " 1. Lasso CV\n",
    " 2. Ridge Cv\n",
    " 3. Elastic Net"
   ]
  },
  {
   "cell_type": "code",
   "execution_count": 1059,
   "id": "5fe4a5fc",
   "metadata": {},
   "outputs": [
    {
     "name": "stdout",
     "output_type": "stream",
     "text": [
      "Lasso CV\n",
      "RMSE: 7.149\n",
      "MAE : 5.484\n",
      "R²  : 0.023\n",
      "============\n",
      "Ridge CV\n",
      "RMSE: 7.151\n",
      "MAE : 5.484\n",
      "R²  : 0.022\n",
      "============\n",
      "Elastic Net\n",
      "RMSE: 7.188\n",
      "MAE : 5.553\n",
      "R²  : 0.012\n",
      "============\n"
     ]
    }
   ],
   "source": [
    "from sklearn.linear_model import ElasticNet, LassoCV, RidgeCV\n",
    "\n",
    "#LassoCV\n",
    "model=LassoCV()\n",
    "model.fit(X_train,y_train)\n",
    "y_pred = model.predict(X_test)\n",
    "r2=r2_score(y_test,y_pred)\n",
    "mae=mean_absolute_error(y_test,y_pred)\n",
    "rmse = np.sqrt(mean_squared_error(y_test, y_pred))\n",
    "\n",
    "print(\"Lasso CV\")\n",
    "print(\"RMSE:\",round (rmse,3))\n",
    "print(\"MAE :\", round(mae,3))\n",
    "print(\"R²  :\", round(r2,3))\n",
    "print(\"=\"*12)\n",
    "\n",
    "#RisgeCV\n",
    "model=RidgeCV()\n",
    "model.fit(X_train,y_train)\n",
    "y_pred = model.predict(X_test)\n",
    "r2=r2_score(y_test,y_pred)\n",
    "mae=mean_absolute_error(y_test,y_pred)\n",
    "rmse = np.sqrt(mean_squared_error(y_test, y_pred))\n",
    "\n",
    "print(\"Ridge CV\")\n",
    "print(\"RMSE:\",round (rmse,3))\n",
    "print(\"MAE :\", round(mae,3))\n",
    "print(\"R²  :\", round(r2,3))\n",
    "print(\"=\"*12)\n",
    "\n",
    "#ElasticNet\n",
    "model=ElasticNet()\n",
    "model.fit(X_train,y_train)\n",
    "y_pred = model.predict(X_test)\n",
    "r2=r2_score(y_test,y_pred)\n",
    "mae=mean_absolute_error(y_test,y_pred)\n",
    "rmse = np.sqrt(mean_squared_error(y_test, y_pred))\n",
    "\n",
    "print(\"Elastic Net\")\n",
    "print(\"RMSE:\",round (rmse,3))\n",
    "print(\"MAE :\", round(mae,3))\n",
    "print(\"R²  :\", round(r2,3))\n",
    "print(\"=\"*12)"
   ]
  },
  {
   "cell_type": "markdown",
   "id": "9f7395a8",
   "metadata": {},
   "source": [
    "##### Even LassoCV, RidgeCv, ElasticNet didn't perform well. Hence, we will move on the Unsupervised learning and use PCA for better results"
   ]
  }
 ],
 "metadata": {
  "kernelspec": {
   "display_name": "cpenv",
   "language": "python",
   "name": "python3"
  },
  "language_info": {
   "codemirror_mode": {
    "name": "ipython",
    "version": 3
   },
   "file_extension": ".py",
   "mimetype": "text/x-python",
   "name": "python",
   "nbconvert_exporter": "python",
   "pygments_lexer": "ipython3",
   "version": "3.12.11"
  }
 },
 "nbformat": 4,
 "nbformat_minor": 5
}
